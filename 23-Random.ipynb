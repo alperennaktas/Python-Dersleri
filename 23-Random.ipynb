{
 "cells": [
  {
   "cell_type": "code",
   "execution_count": 1,
   "id": "160f2011",
   "metadata": {},
   "outputs": [],
   "source": [
    "#random, rastegele bir değer oluşturmak."
   ]
  },
  {
   "cell_type": "code",
   "execution_count": 2,
   "id": "78eb18e1",
   "metadata": {},
   "outputs": [],
   "source": [
    "#import , içeri almak"
   ]
  },
  {
   "cell_type": "code",
   "execution_count": 4,
   "id": "e01903b5",
   "metadata": {},
   "outputs": [],
   "source": [
    "from random import randint"
   ]
  },
  {
   "cell_type": "code",
   "execution_count": 5,
   "id": "a3686695",
   "metadata": {},
   "outputs": [
    {
     "data": {
      "text/plain": [
       "41"
      ]
     },
     "execution_count": 5,
     "metadata": {},
     "output_type": "execute_result"
    }
   ],
   "source": [
    "randint(0,100)"
   ]
  },
  {
   "cell_type": "code",
   "execution_count": 6,
   "id": "109a3a5c",
   "metadata": {},
   "outputs": [
    {
     "data": {
      "text/plain": [
       "71"
      ]
     },
     "execution_count": 6,
     "metadata": {},
     "output_type": "execute_result"
    }
   ],
   "source": [
    "randint(0,100)"
   ]
  },
  {
   "cell_type": "code",
   "execution_count": 7,
   "id": "da3349b7",
   "metadata": {},
   "outputs": [],
   "source": [
    "#rastgele bir sayı bulmak istenirse bu işlem gerçekleştirilir."
   ]
  },
  {
   "cell_type": "code",
   "execution_count": 8,
   "id": "5262db76",
   "metadata": {},
   "outputs": [],
   "source": [
    "newlist = list(range(0,10))"
   ]
  },
  {
   "cell_type": "code",
   "execution_count": 9,
   "id": "dd9ce5f3",
   "metadata": {},
   "outputs": [
    {
     "data": {
      "text/plain": [
       "[0, 1, 2, 3, 4, 5, 6, 7, 8, 9]"
      ]
     },
     "execution_count": 9,
     "metadata": {},
     "output_type": "execute_result"
    }
   ],
   "source": [
    "newlist"
   ]
  },
  {
   "cell_type": "code",
   "execution_count": 12,
   "id": "acbd943a",
   "metadata": {},
   "outputs": [
    {
     "data": {
      "text/plain": [
       "8"
      ]
     },
     "execution_count": 12,
     "metadata": {},
     "output_type": "execute_result"
    }
   ],
   "source": [
    "newlist[randint(0,9)]"
   ]
  },
  {
   "cell_type": "code",
   "execution_count": 13,
   "id": "2e569ee5",
   "metadata": {},
   "outputs": [],
   "source": [
    "from random import shuffle"
   ]
  },
  {
   "cell_type": "code",
   "execution_count": 14,
   "id": "1b83d434",
   "metadata": {},
   "outputs": [],
   "source": [
    "#suffle , karıştırır."
   ]
  },
  {
   "cell_type": "code",
   "execution_count": 15,
   "id": "a6c67713",
   "metadata": {},
   "outputs": [],
   "source": [
    "shuffle(newlist)"
   ]
  },
  {
   "cell_type": "code",
   "execution_count": 16,
   "id": "1adb6ab8",
   "metadata": {},
   "outputs": [
    {
     "data": {
      "text/plain": [
       "[4, 5, 7, 3, 1, 8, 9, 2, 0, 6]"
      ]
     },
     "execution_count": 16,
     "metadata": {},
     "output_type": "execute_result"
    }
   ],
   "source": [
    "newlist"
   ]
  },
  {
   "cell_type": "code",
   "execution_count": null,
   "id": "6dbb42ea",
   "metadata": {},
   "outputs": [],
   "source": []
  }
 ],
 "metadata": {
  "kernelspec": {
   "display_name": "Python 3 (ipykernel)",
   "language": "python",
   "name": "python3"
  },
  "language_info": {
   "codemirror_mode": {
    "name": "ipython",
    "version": 3
   },
   "file_extension": ".py",
   "mimetype": "text/x-python",
   "name": "python",
   "nbconvert_exporter": "python",
   "pygments_lexer": "ipython3",
   "version": "3.9.7"
  }
 },
 "nbformat": 4,
 "nbformat_minor": 5
}
