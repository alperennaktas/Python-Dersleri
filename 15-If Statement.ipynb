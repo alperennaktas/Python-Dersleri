{
 "cells": [
  {
   "cell_type": "code",
   "execution_count": 2,
   "id": "7c565196",
   "metadata": {},
   "outputs": [
    {
     "name": "stdout",
     "output_type": "stream",
     "text": [
      "Hava Güzel\n"
     ]
    }
   ],
   "source": [
    "if 3>-1 :\n",
    "    print(\"Hava Güzel\")"
   ]
  },
  {
   "cell_type": "code",
   "execution_count": 21,
   "id": "4b467937",
   "metadata": {},
   "outputs": [],
   "source": [
    "x=3"
   ]
  },
  {
   "cell_type": "code",
   "execution_count": 22,
   "id": "48b44537",
   "metadata": {},
   "outputs": [],
   "source": [
    "y=4"
   ]
  },
  {
   "cell_type": "code",
   "execution_count": 23,
   "id": "fe9f9154",
   "metadata": {},
   "outputs": [],
   "source": [
    "if x>y:\n",
    "    print(\"x, y'den daha büyükmüş\")"
   ]
  },
  {
   "cell_type": "code",
   "execution_count": 24,
   "id": "664e49e7",
   "metadata": {},
   "outputs": [
    {
     "name": "stdout",
     "output_type": "stream",
     "text": [
      "y, x'den daha büyükmüş\n"
     ]
    }
   ],
   "source": [
    "if x>y:\n",
    "    print(\"x y'den daha büyükmüş\")\n",
    "elif y>x :\n",
    "    print(\"y, x'den daha büyükmüş\")"
   ]
  },
  {
   "cell_type": "code",
   "execution_count": 25,
   "id": "d74a8c63",
   "metadata": {},
   "outputs": [],
   "source": [
    "x=30"
   ]
  },
  {
   "cell_type": "code",
   "execution_count": 26,
   "id": "ade9d2ac",
   "metadata": {},
   "outputs": [],
   "source": [
    "y=-1"
   ]
  },
  {
   "cell_type": "code",
   "execution_count": 28,
   "id": "63b566de",
   "metadata": {},
   "outputs": [
    {
     "name": "stdout",
     "output_type": "stream",
     "text": [
      "hava sıcak\n"
     ]
    }
   ],
   "source": [
    "if x>y :\n",
    "    print(\"hava sıcak\")\n",
    "elif y<x :\n",
    "    print(\"hava soğuk\")\n",
    "else :\n",
    "    print(\"hava normal\")"
   ]
  },
  {
   "cell_type": "code",
   "execution_count": null,
   "id": "2da5545b",
   "metadata": {},
   "outputs": [],
   "source": []
  }
 ],
 "metadata": {
  "kernelspec": {
   "display_name": "Python 3 (ipykernel)",
   "language": "python",
   "name": "python3"
  },
  "language_info": {
   "codemirror_mode": {
    "name": "ipython",
    "version": 3
   },
   "file_extension": ".py",
   "mimetype": "text/x-python",
   "name": "python",
   "nbconvert_exporter": "python",
   "pygments_lexer": "ipython3",
   "version": "3.9.7"
  }
 },
 "nbformat": 4,
 "nbformat_minor": 5
}
