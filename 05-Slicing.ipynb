{
 "cells": [
  {
   "cell_type": "code",
   "execution_count": 1,
   "id": "06063053",
   "metadata": {},
   "outputs": [],
   "source": [
    "nameString = \"Mete Han\""
   ]
  },
  {
   "cell_type": "code",
   "execution_count": 2,
   "id": "54ae8d24",
   "metadata": {},
   "outputs": [
    {
     "data": {
      "text/plain": [
       "'Mete Han'"
      ]
     },
     "execution_count": 2,
     "metadata": {},
     "output_type": "execute_result"
    }
   ],
   "source": [
    "nameString"
   ]
  },
  {
   "cell_type": "markdown",
   "id": "ed12657d",
   "metadata": {},
   "source": [
    "Index"
   ]
  },
  {
   "cell_type": "code",
   "execution_count": 3,
   "id": "1459df0c",
   "metadata": {},
   "outputs": [
    {
     "data": {
      "text/plain": [
       "'M'"
      ]
     },
     "execution_count": 3,
     "metadata": {},
     "output_type": "execute_result"
    }
   ],
   "source": [
    "nameString[0]"
   ]
  },
  {
   "cell_type": "code",
   "execution_count": 4,
   "id": "7eb77295",
   "metadata": {},
   "outputs": [],
   "source": [
    "#name Stringindeki ilk elemanı getirdi."
   ]
  },
  {
   "cell_type": "code",
   "execution_count": 6,
   "id": "827f6611",
   "metadata": {},
   "outputs": [
    {
     "data": {
      "text/plain": [
       "'e'"
      ]
     },
     "execution_count": 6,
     "metadata": {},
     "output_type": "execute_result"
    }
   ],
   "source": [
    "nameString[3]"
   ]
  },
  {
   "cell_type": "code",
   "execution_count": 7,
   "id": "82c242a8",
   "metadata": {},
   "outputs": [
    {
     "data": {
      "text/plain": [
       "'n'"
      ]
     },
     "execution_count": 7,
     "metadata": {},
     "output_type": "execute_result"
    }
   ],
   "source": [
    "nameString[-1]"
   ]
  },
  {
   "cell_type": "code",
   "execution_count": 8,
   "id": "261b9757",
   "metadata": {},
   "outputs": [],
   "source": [
    "#-1 son karakteri getirir."
   ]
  },
  {
   "cell_type": "code",
   "execution_count": 9,
   "id": "f96f9284",
   "metadata": {},
   "outputs": [
    {
     "data": {
      "text/plain": [
       "'a'"
      ]
     },
     "execution_count": 9,
     "metadata": {},
     "output_type": "execute_result"
    }
   ],
   "source": [
    "nameString[-2]"
   ]
  },
  {
   "cell_type": "code",
   "execution_count": 10,
   "id": "af080f8f",
   "metadata": {},
   "outputs": [
    {
     "data": {
      "text/plain": [
       "'H'"
      ]
     },
     "execution_count": 10,
     "metadata": {},
     "output_type": "execute_result"
    }
   ],
   "source": [
    "nameString[-3]"
   ]
  },
  {
   "cell_type": "code",
   "execution_count": 11,
   "id": "bd5ced6d",
   "metadata": {},
   "outputs": [
    {
     "data": {
      "text/plain": [
       "8"
      ]
     },
     "execution_count": 11,
     "metadata": {},
     "output_type": "execute_result"
    }
   ],
   "source": [
    "len(nameString)"
   ]
  },
  {
   "cell_type": "code",
   "execution_count": 12,
   "id": "79514735",
   "metadata": {},
   "outputs": [
    {
     "data": {
      "text/plain": [
       "'Ma'"
      ]
     },
     "execution_count": 12,
     "metadata": {},
     "output_type": "execute_result"
    }
   ],
   "source": [
    "nameString[0] + nameString[-2]"
   ]
  },
  {
   "cell_type": "code",
   "execution_count": 13,
   "id": "c1df2747",
   "metadata": {},
   "outputs": [],
   "source": [
    "newString =\"054646\""
   ]
  },
  {
   "cell_type": "code",
   "execution_count": 14,
   "id": "714e2f21",
   "metadata": {},
   "outputs": [
    {
     "data": {
      "text/plain": [
       "str"
      ]
     },
     "execution_count": 14,
     "metadata": {},
     "output_type": "execute_result"
    }
   ],
   "source": [
    "type(newString)"
   ]
  },
  {
   "cell_type": "code",
   "execution_count": 15,
   "id": "b3f9adf2",
   "metadata": {},
   "outputs": [
    {
     "data": {
      "text/plain": [
       "'46'"
      ]
     },
     "execution_count": 15,
     "metadata": {},
     "output_type": "execute_result"
    }
   ],
   "source": [
    "newString[-2:]"
   ]
  },
  {
   "cell_type": "code",
   "execution_count": 16,
   "id": "f0e3480f",
   "metadata": {},
   "outputs": [
    {
     "data": {
      "text/plain": [
       "'054'"
      ]
     },
     "execution_count": 16,
     "metadata": {},
     "output_type": "execute_result"
    }
   ],
   "source": [
    "newString[:3]"
   ]
  },
  {
   "cell_type": "code",
   "execution_count": 17,
   "id": "3ae46ad4",
   "metadata": {},
   "outputs": [
    {
     "data": {
      "text/plain": [
       "'Met'"
      ]
     },
     "execution_count": 17,
     "metadata": {},
     "output_type": "execute_result"
    }
   ],
   "source": [
    "nameString[:3]"
   ]
  },
  {
   "cell_type": "code",
   "execution_count": 22,
   "id": "9c872778",
   "metadata": {},
   "outputs": [
    {
     "data": {
      "text/plain": [
       "'te Han'"
      ]
     },
     "execution_count": 22,
     "metadata": {},
     "output_type": "execute_result"
    }
   ],
   "source": [
    "nameString[2:]"
   ]
  },
  {
   "cell_type": "code",
   "execution_count": 28,
   "id": "3dd3b92b",
   "metadata": {},
   "outputs": [
    {
     "data": {
      "text/plain": [
       "'Mete Ha'"
      ]
     },
     "execution_count": 28,
     "metadata": {},
     "output_type": "execute_result"
    }
   ],
   "source": [
    "nameString[0:7]"
   ]
  },
  {
   "cell_type": "code",
   "execution_count": 29,
   "id": "186256f8",
   "metadata": {},
   "outputs": [],
   "source": [
    "#Step Size"
   ]
  },
  {
   "cell_type": "code",
   "execution_count": 31,
   "id": "4314d65e",
   "metadata": {},
   "outputs": [
    {
     "data": {
      "text/plain": [
       "'e n'"
      ]
     },
     "execution_count": 31,
     "metadata": {},
     "output_type": "execute_result"
    }
   ],
   "source": [
    "nameString[1::3]"
   ]
  },
  {
   "cell_type": "code",
   "execution_count": 32,
   "id": "924abf86",
   "metadata": {},
   "outputs": [
    {
     "data": {
      "text/plain": [
       "'naH eteM'"
      ]
     },
     "execution_count": 32,
     "metadata": {},
     "output_type": "execute_result"
    }
   ],
   "source": [
    "nameString[::-1]"
   ]
  },
  {
   "cell_type": "code",
   "execution_count": null,
   "id": "978555e0",
   "metadata": {},
   "outputs": [],
   "source": []
  }
 ],
 "metadata": {
  "kernelspec": {
   "display_name": "Python 3 (ipykernel)",
   "language": "python",
   "name": "python3"
  },
  "language_info": {
   "codemirror_mode": {
    "name": "ipython",
    "version": 3
   },
   "file_extension": ".py",
   "mimetype": "text/x-python",
   "name": "python",
   "nbconvert_exporter": "python",
   "pygments_lexer": "ipython3",
   "version": "3.9.7"
  }
 },
 "nbformat": 4,
 "nbformat_minor": 5
}
