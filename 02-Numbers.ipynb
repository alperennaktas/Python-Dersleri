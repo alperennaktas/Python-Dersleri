{
 "cells": [
  {
   "cell_type": "code",
   "execution_count": 1,
   "id": "b33c1ebb",
   "metadata": {},
   "outputs": [],
   "source": [
    "yas_1 = 1\n",
    "yas_2 = 20"
   ]
  },
  {
   "cell_type": "code",
   "execution_count": 2,
   "id": "5f446dea",
   "metadata": {},
   "outputs": [
    {
     "data": {
      "text/plain": [
       "21"
      ]
     },
     "execution_count": 2,
     "metadata": {},
     "output_type": "execute_result"
    }
   ],
   "source": [
    "yas_1 + yas_2"
   ]
  },
  {
   "cell_type": "code",
   "execution_count": 3,
   "id": "23586090",
   "metadata": {},
   "outputs": [],
   "source": [
    "#bir değişkenin veri tipini öğrenmek istiyorsak type(yas_1) yazabiliriz"
   ]
  },
  {
   "cell_type": "code",
   "execution_count": 4,
   "id": "c674005a",
   "metadata": {},
   "outputs": [
    {
     "data": {
      "text/plain": [
       "int"
      ]
     },
     "execution_count": 4,
     "metadata": {},
     "output_type": "execute_result"
    }
   ],
   "source": [
    "type(yas_1)"
   ]
  },
  {
   "cell_type": "code",
   "execution_count": 13,
   "id": "53c9eda2",
   "metadata": {},
   "outputs": [],
   "source": [
    "sonuc = yas_1 / yas_2"
   ]
  },
  {
   "cell_type": "code",
   "execution_count": 14,
   "id": "3ba3cfe3",
   "metadata": {},
   "outputs": [
    {
     "data": {
      "text/plain": [
       "float"
      ]
     },
     "execution_count": 14,
     "metadata": {},
     "output_type": "execute_result"
    }
   ],
   "source": [
    "type(sonuc)"
   ]
  },
  {
   "cell_type": "code",
   "execution_count": 20,
   "id": "a079df48",
   "metadata": {},
   "outputs": [],
   "source": [
    "a = 3\n",
    "b = 2\n"
   ]
  },
  {
   "cell_type": "code",
   "execution_count": 21,
   "id": "f38819dc",
   "metadata": {},
   "outputs": [
    {
     "data": {
      "text/plain": [
       "1.5"
      ]
     },
     "execution_count": 21,
     "metadata": {},
     "output_type": "execute_result"
    }
   ],
   "source": [
    "a/b"
   ]
  },
  {
   "cell_type": "code",
   "execution_count": 23,
   "id": "465e270c",
   "metadata": {},
   "outputs": [],
   "source": [
    "pi = 3.14"
   ]
  },
  {
   "cell_type": "code",
   "execution_count": 24,
   "id": "24a6a66b",
   "metadata": {},
   "outputs": [
    {
     "data": {
      "text/plain": [
       "float"
      ]
     },
     "execution_count": 24,
     "metadata": {},
     "output_type": "execute_result"
    }
   ],
   "source": [
    "type(pi)"
   ]
  },
  {
   "cell_type": "code",
   "execution_count": 25,
   "id": "6cc18373",
   "metadata": {},
   "outputs": [],
   "source": [
    "a=5"
   ]
  },
  {
   "cell_type": "code",
   "execution_count": 26,
   "id": "8542b7bf",
   "metadata": {},
   "outputs": [
    {
     "data": {
      "text/plain": [
       "int"
      ]
     },
     "execution_count": 26,
     "metadata": {},
     "output_type": "execute_result"
    }
   ],
   "source": [
    "type(a)"
   ]
  },
  {
   "cell_type": "code",
   "execution_count": 27,
   "id": "2e36481c",
   "metadata": {},
   "outputs": [
    {
     "data": {
      "text/plain": [
       "8.14"
      ]
     },
     "execution_count": 27,
     "metadata": {},
     "output_type": "execute_result"
    }
   ],
   "source": [
    "a + pi"
   ]
  },
  {
   "cell_type": "code",
   "execution_count": 28,
   "id": "18791bf6",
   "metadata": {},
   "outputs": [
    {
     "data": {
      "text/plain": [
       "15.700000000000001"
      ]
     },
     "execution_count": 28,
     "metadata": {},
     "output_type": "execute_result"
    }
   ],
   "source": [
    "a*pi"
   ]
  },
  {
   "cell_type": "code",
   "execution_count": 29,
   "id": "795cfa1e",
   "metadata": {},
   "outputs": [
    {
     "data": {
      "text/plain": [
       "1.592356687898089"
      ]
     },
     "execution_count": 29,
     "metadata": {},
     "output_type": "execute_result"
    }
   ],
   "source": [
    "a/pi"
   ]
  },
  {
   "cell_type": "code",
   "execution_count": 30,
   "id": "00b7e616",
   "metadata": {},
   "outputs": [],
   "source": [
    "a = 5\n",
    "b = 4\n"
   ]
  },
  {
   "cell_type": "code",
   "execution_count": 31,
   "id": "d45dd75c",
   "metadata": {},
   "outputs": [],
   "source": [
    "sonuc = a + b"
   ]
  },
  {
   "cell_type": "code",
   "execution_count": 32,
   "id": "5f975f31",
   "metadata": {},
   "outputs": [
    {
     "data": {
      "text/plain": [
       "int"
      ]
     },
     "execution_count": 32,
     "metadata": {},
     "output_type": "execute_result"
    }
   ],
   "source": [
    "type(sonuc)"
   ]
  },
  {
   "cell_type": "code",
   "execution_count": null,
   "id": "352d3803",
   "metadata": {},
   "outputs": [],
   "source": []
  }
 ],
 "metadata": {
  "kernelspec": {
   "display_name": "Python 3 (ipykernel)",
   "language": "python",
   "name": "python3"
  },
  "language_info": {
   "codemirror_mode": {
    "name": "ipython",
    "version": 3
   },
   "file_extension": ".py",
   "mimetype": "text/x-python",
   "name": "python",
   "nbconvert_exporter": "python",
   "pygments_lexer": "ipython3",
   "version": "3.9.7"
  }
 },
 "nbformat": 4,
 "nbformat_minor": 5
}
