{
 "cells": [
  {
   "cell_type": "code",
   "execution_count": 1,
   "id": "e16fcefb",
   "metadata": {},
   "outputs": [],
   "source": [
    "#Koleksiyonlar, birden fazla veriyi aynı yapı içerisinde tutmamızı sağlayan yapılardır."
   ]
  },
  {
   "cell_type": "code",
   "execution_count": 4,
   "id": "26481977",
   "metadata": {},
   "outputs": [],
   "source": [
    "benimString =\"Mete Han Aktaş\""
   ]
  },
  {
   "cell_type": "code",
   "execution_count": 5,
   "id": "f0eb33ee",
   "metadata": {},
   "outputs": [
    {
     "data": {
      "text/plain": [
       "'M'"
      ]
     },
     "execution_count": 5,
     "metadata": {},
     "output_type": "execute_result"
    }
   ],
   "source": [
    "benimString[0]"
   ]
  },
  {
   "cell_type": "code",
   "execution_count": 6,
   "id": "6126ad35",
   "metadata": {},
   "outputs": [],
   "source": [
    "#immutability & mutable ---değişmezlik & değiştirilebilir"
   ]
  },
  {
   "cell_type": "code",
   "execution_count": 8,
   "id": "9d726775",
   "metadata": {},
   "outputs": [],
   "source": [
    "#benimString[0] = \"b\""
   ]
  },
  {
   "cell_type": "code",
   "execution_count": 9,
   "id": "946fad97",
   "metadata": {},
   "outputs": [],
   "source": [
    "benimList =[10,20,30,40]"
   ]
  },
  {
   "cell_type": "code",
   "execution_count": 10,
   "id": "cf634cd3",
   "metadata": {},
   "outputs": [
    {
     "data": {
      "text/plain": [
       "list"
      ]
     },
     "execution_count": 10,
     "metadata": {},
     "output_type": "execute_result"
    }
   ],
   "source": [
    "type(benimList)"
   ]
  },
  {
   "cell_type": "code",
   "execution_count": 11,
   "id": "404d3ce6",
   "metadata": {},
   "outputs": [],
   "source": [
    "benimNumaram = 10"
   ]
  },
  {
   "cell_type": "code",
   "execution_count": 12,
   "id": "628e4df8",
   "metadata": {},
   "outputs": [],
   "source": [
    "benimDigerNumaram = 20"
   ]
  },
  {
   "cell_type": "code",
   "execution_count": 14,
   "id": "d6b1e26e",
   "metadata": {},
   "outputs": [],
   "source": [
    "benimNumaraListem = [benimNumaram,benimDigerNumaram]"
   ]
  },
  {
   "cell_type": "code",
   "execution_count": 15,
   "id": "b81abde5",
   "metadata": {},
   "outputs": [
    {
     "data": {
      "text/plain": [
       "10"
      ]
     },
     "execution_count": 15,
     "metadata": {},
     "output_type": "execute_result"
    }
   ],
   "source": [
    "benimList[0]"
   ]
  },
  {
   "cell_type": "code",
   "execution_count": 16,
   "id": "9a2810a1",
   "metadata": {},
   "outputs": [
    {
     "data": {
      "text/plain": [
       "[10, 20]"
      ]
     },
     "execution_count": 16,
     "metadata": {},
     "output_type": "execute_result"
    }
   ],
   "source": [
    "benimNumaraListem[0]"
   ]
  },
  {
   "cell_type": "code",
   "execution_count": 17,
   "id": "77c1b9d9",
   "metadata": {},
   "outputs": [
    {
     "data": {
      "text/plain": [
       "[10, 20]"
      ]
     },
     "execution_count": 17,
     "metadata": {},
     "output_type": "execute_result"
    }
   ],
   "source": [
    "benimNumaraListem[0]"
   ]
  },
  {
   "cell_type": "code",
   "execution_count": 19,
   "id": "533e7573",
   "metadata": {},
   "outputs": [],
   "source": [
    "benimList[0] = 100"
   ]
  },
  {
   "cell_type": "code",
   "execution_count": 20,
   "id": "32f61575",
   "metadata": {},
   "outputs": [
    {
     "data": {
      "text/plain": [
       "[100, 20, 30, 40]"
      ]
     },
     "execution_count": 20,
     "metadata": {},
     "output_type": "execute_result"
    }
   ],
   "source": [
    "benimList"
   ]
  },
  {
   "cell_type": "code",
   "execution_count": 21,
   "id": "fe1d0a0b",
   "metadata": {},
   "outputs": [],
   "source": [
    "benimList.append(50)"
   ]
  },
  {
   "cell_type": "code",
   "execution_count": 22,
   "id": "225a5fba",
   "metadata": {},
   "outputs": [
    {
     "data": {
      "text/plain": [
       "[100, 20, 30, 40, 50]"
      ]
     },
     "execution_count": 22,
     "metadata": {},
     "output_type": "execute_result"
    }
   ],
   "source": [
    "benimList"
   ]
  },
  {
   "cell_type": "code",
   "execution_count": null,
   "id": "b2ca0c74",
   "metadata": {},
   "outputs": [],
   "source": []
  }
 ],
 "metadata": {
  "kernelspec": {
   "display_name": "Python 3 (ipykernel)",
   "language": "python",
   "name": "python3"
  },
  "language_info": {
   "codemirror_mode": {
    "name": "ipython",
    "version": 3
   },
   "file_extension": ".py",
   "mimetype": "text/x-python",
   "name": "python",
   "nbconvert_exporter": "python",
   "pygments_lexer": "ipython3",
   "version": "3.9.7"
  }
 },
 "nbformat": 4,
 "nbformat_minor": 5
}
