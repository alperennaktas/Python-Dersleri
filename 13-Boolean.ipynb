{
 "cells": [
  {
   "cell_type": "code",
   "execution_count": 1,
   "id": "0cc79a62",
   "metadata": {},
   "outputs": [],
   "source": [
    "#Boolean, sadece doğru veya yanlış değerini alır."
   ]
  },
  {
   "cell_type": "code",
   "execution_count": 2,
   "id": "a412c5d3",
   "metadata": {},
   "outputs": [],
   "source": [
    "myboolean =True"
   ]
  },
  {
   "cell_type": "code",
   "execution_count": 3,
   "id": "657d99e2",
   "metadata": {},
   "outputs": [
    {
     "data": {
      "text/plain": [
       "True"
      ]
     },
     "execution_count": 3,
     "metadata": {},
     "output_type": "execute_result"
    }
   ],
   "source": [
    "myboolean"
   ]
  },
  {
   "cell_type": "code",
   "execution_count": 4,
   "id": "68d9195b",
   "metadata": {},
   "outputs": [
    {
     "data": {
      "text/plain": [
       "bool"
      ]
     },
     "execution_count": 4,
     "metadata": {},
     "output_type": "execute_result"
    }
   ],
   "source": [
    "type(myboolean)"
   ]
  },
  {
   "cell_type": "code",
   "execution_count": 5,
   "id": "5ac9fc76",
   "metadata": {},
   "outputs": [],
   "source": [
    "myboolean=False"
   ]
  },
  {
   "cell_type": "code",
   "execution_count": 6,
   "id": "d8f39188",
   "metadata": {},
   "outputs": [
    {
     "data": {
      "text/plain": [
       "False"
      ]
     },
     "execution_count": 6,
     "metadata": {},
     "output_type": "execute_result"
    }
   ],
   "source": [
    "myboolean"
   ]
  },
  {
   "cell_type": "code",
   "execution_count": 7,
   "id": "bba037a5",
   "metadata": {},
   "outputs": [
    {
     "data": {
      "text/plain": [
       "True"
      ]
     },
     "execution_count": 7,
     "metadata": {},
     "output_type": "execute_result"
    }
   ],
   "source": [
    "100>5"
   ]
  },
  {
   "cell_type": "code",
   "execution_count": 8,
   "id": "4fb1e7d5",
   "metadata": {},
   "outputs": [],
   "source": [
    "maaslar = [5000,10000,3000,1000,2000,4000]"
   ]
  },
  {
   "cell_type": "code",
   "execution_count": 9,
   "id": "e825cbd0",
   "metadata": {},
   "outputs": [
    {
     "data": {
      "text/plain": [
       "6"
      ]
     },
     "execution_count": 9,
     "metadata": {},
     "output_type": "execute_result"
    }
   ],
   "source": [
    "len(maaslar)"
   ]
  },
  {
   "cell_type": "code",
   "execution_count": 10,
   "id": "027315b0",
   "metadata": {},
   "outputs": [],
   "source": [
    "#sum, toplamak\n"
   ]
  },
  {
   "cell_type": "code",
   "execution_count": 11,
   "id": "c06ce46c",
   "metadata": {},
   "outputs": [
    {
     "data": {
      "text/plain": [
       "25000"
      ]
     },
     "execution_count": 11,
     "metadata": {},
     "output_type": "execute_result"
    }
   ],
   "source": [
    "sum(maaslar)"
   ]
  },
  {
   "cell_type": "code",
   "execution_count": 12,
   "id": "57b580d1",
   "metadata": {},
   "outputs": [],
   "source": [
    "ortalama =sum(maaslar)/len(maaslar)"
   ]
  },
  {
   "cell_type": "code",
   "execution_count": 13,
   "id": "417727a6",
   "metadata": {},
   "outputs": [
    {
     "data": {
      "text/plain": [
       "4166.666666666667"
      ]
     },
     "execution_count": 13,
     "metadata": {},
     "output_type": "execute_result"
    }
   ],
   "source": [
    "ortalama"
   ]
  },
  {
   "cell_type": "code",
   "execution_count": null,
   "id": "7c748098",
   "metadata": {},
   "outputs": [],
   "source": [
    "maaslar[3]>ortalama"
   ]
  },
  {
   "cell_type": "code",
   "execution_count": null,
   "id": "482a85bc",
   "metadata": {},
   "outputs": [],
   "source": []
  },
  {
   "cell_type": "code",
   "execution_count": null,
   "id": "5fcc9140",
   "metadata": {},
   "outputs": [],
   "source": []
  },
  {
   "cell_type": "code",
   "execution_count": null,
   "id": "19ba2f28",
   "metadata": {},
   "outputs": [],
   "source": []
  },
  {
   "cell_type": "code",
   "execution_count": null,
   "id": "15444c07",
   "metadata": {},
   "outputs": [],
   "source": []
  }
 ],
 "metadata": {
  "kernelspec": {
   "display_name": "Python 3 (ipykernel)",
   "language": "python",
   "name": "python3"
  },
  "language_info": {
   "codemirror_mode": {
    "name": "ipython",
    "version": 3
   },
   "file_extension": ".py",
   "mimetype": "text/x-python",
   "name": "python",
   "nbconvert_exporter": "python",
   "pygments_lexer": "ipython3",
   "version": "3.9.7"
  }
 },
 "nbformat": 4,
 "nbformat_minor": 5
}
