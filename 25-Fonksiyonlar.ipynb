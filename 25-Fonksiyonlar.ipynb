{
 "cells": [
  {
   "cell_type": "code",
   "execution_count": 1,
   "id": "dbc90fd2",
   "metadata": {},
   "outputs": [],
   "source": [
    "benimadım=\"mete han\""
   ]
  },
  {
   "cell_type": "code",
   "execution_count": 3,
   "id": "b959de0b",
   "metadata": {},
   "outputs": [
    {
     "data": {
      "text/plain": [
       "'METE HAN'"
      ]
     },
     "execution_count": 3,
     "metadata": {},
     "output_type": "execute_result"
    }
   ],
   "source": [
    "benimadım.upper()"
   ]
  },
  {
   "cell_type": "code",
   "execution_count": 4,
   "id": "38b30c97",
   "metadata": {},
   "outputs": [
    {
     "data": {
      "text/plain": [
       "'mete han'"
      ]
     },
     "execution_count": 4,
     "metadata": {},
     "output_type": "execute_result"
    }
   ],
   "source": [
    "benimadım"
   ]
  },
  {
   "cell_type": "code",
   "execution_count": 5,
   "id": "b7fabca7",
   "metadata": {},
   "outputs": [],
   "source": [
    "benimadımbüyükharf = benimadım.upper()"
   ]
  },
  {
   "cell_type": "code",
   "execution_count": 6,
   "id": "bb543e9d",
   "metadata": {},
   "outputs": [
    {
     "data": {
      "text/plain": [
       "'METE HAN'"
      ]
     },
     "execution_count": 6,
     "metadata": {},
     "output_type": "execute_result"
    }
   ],
   "source": [
    "benimadımbüyükharf"
   ]
  },
  {
   "cell_type": "code",
   "execution_count": 8,
   "id": "ec99992d",
   "metadata": {},
   "outputs": [],
   "source": [
    "def ilkfonksiyon():\n",
    "    print(\"ilk fonksiyonum\")"
   ]
  },
  {
   "cell_type": "code",
   "execution_count": 9,
   "id": "24fd4122",
   "metadata": {},
   "outputs": [
    {
     "name": "stdout",
     "output_type": "stream",
     "text": [
      "ilk fonksiyonum\n"
     ]
    }
   ],
   "source": [
    "ilkfonksiyon()"
   ]
  },
  {
   "cell_type": "code",
   "execution_count": null,
   "id": "232df2be",
   "metadata": {},
   "outputs": [],
   "source": []
  }
 ],
 "metadata": {
  "kernelspec": {
   "display_name": "Python 3 (ipykernel)",
   "language": "python",
   "name": "python3"
  },
  "language_info": {
   "codemirror_mode": {
    "name": "ipython",
    "version": 3
   },
   "file_extension": ".py",
   "mimetype": "text/x-python",
   "name": "python",
   "nbconvert_exporter": "python",
   "pygments_lexer": "ipython3",
   "version": "3.9.7"
  }
 },
 "nbformat": 4,
 "nbformat_minor": 5
}
