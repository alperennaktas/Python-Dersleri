{
 "cells": [
  {
   "cell_type": "code",
   "execution_count": 1,
   "id": "053f6d59",
   "metadata": {},
   "outputs": [],
   "source": [
    "#While, bir koşul tuttuğu sürece devam et anlamına geliyor."
   ]
  },
  {
   "cell_type": "code",
   "execution_count": 14,
   "id": "da356223",
   "metadata": {},
   "outputs": [],
   "source": [
    "x=0"
   ]
  },
  {
   "cell_type": "code",
   "execution_count": 15,
   "id": "7d2be27b",
   "metadata": {},
   "outputs": [
    {
     "name": "stdout",
     "output_type": "stream",
     "text": [
      "0\n",
      "1\n",
      "2\n",
      "3\n",
      "4\n",
      "5\n",
      "6\n",
      "7\n",
      "8\n",
      "9\n"
     ]
    }
   ],
   "source": [
    "while x < 10 :\n",
    "    print(x)\n",
    "    x = x + 1"
   ]
  },
  {
   "cell_type": "code",
   "execution_count": 16,
   "id": "b5404c06",
   "metadata": {},
   "outputs": [],
   "source": [
    "benimlistem = [1,2,3,4,5]"
   ]
  },
  {
   "cell_type": "code",
   "execution_count": 17,
   "id": "a8599ed9",
   "metadata": {},
   "outputs": [
    {
     "data": {
      "text/plain": [
       "5"
      ]
     },
     "execution_count": 17,
     "metadata": {},
     "output_type": "execute_result"
    }
   ],
   "source": [
    "benimlistem.pop()"
   ]
  },
  {
   "cell_type": "code",
   "execution_count": 18,
   "id": "f1368248",
   "metadata": {},
   "outputs": [
    {
     "data": {
      "text/plain": [
       "[1, 2, 3, 4]"
      ]
     },
     "execution_count": 18,
     "metadata": {},
     "output_type": "execute_result"
    }
   ],
   "source": [
    "benimlistem"
   ]
  },
  {
   "cell_type": "code",
   "execution_count": 19,
   "id": "fbd1771a",
   "metadata": {},
   "outputs": [],
   "source": [
    "benimlistem.append(5)"
   ]
  },
  {
   "cell_type": "code",
   "execution_count": 20,
   "id": "da8dbea2",
   "metadata": {},
   "outputs": [
    {
     "data": {
      "text/plain": [
       "[1, 2, 3, 4, 5]"
      ]
     },
     "execution_count": 20,
     "metadata": {},
     "output_type": "execute_result"
    }
   ],
   "source": [
    "benimlistem"
   ]
  },
  {
   "cell_type": "code",
   "execution_count": 21,
   "id": "93c85f85",
   "metadata": {},
   "outputs": [
    {
     "name": "stdout",
     "output_type": "stream",
     "text": [
      "3 hala listenin içerisinde\n",
      "3 hala listenin içerisinde\n",
      "3 hala listenin içerisinde\n"
     ]
    }
   ],
   "source": [
    "while 3 in benimlistem:\n",
    "    print(\"3 hala listenin içerisinde\")\n",
    "    benimlistem.pop()"
   ]
  },
  {
   "cell_type": "code",
   "execution_count": 22,
   "id": "a5b85ff0",
   "metadata": {},
   "outputs": [],
   "source": [
    "numara = 0"
   ]
  },
  {
   "cell_type": "code",
   "execution_count": 27,
   "id": "027f626f",
   "metadata": {},
   "outputs": [
    {
     "name": "stdout",
     "output_type": "stream",
     "text": [
      "0\n",
      "1\n",
      "2\n",
      "3\n"
     ]
    }
   ],
   "source": [
    "while numara < 5:\n",
    "    if numara ==4:\n",
    "        break\n",
    "    print(numara)\n",
    "    numara=numara+1\n",
    "        \n",
    "   "
   ]
  },
  {
   "cell_type": "code",
   "execution_count": 33,
   "id": "3f8ff8d8",
   "metadata": {},
   "outputs": [],
   "source": [
    "yenidegisken = 0"
   ]
  },
  {
   "cell_type": "code",
   "execution_count": 34,
   "id": "1bafd1b6",
   "metadata": {},
   "outputs": [
    {
     "name": "stdout",
     "output_type": "stream",
     "text": [
      "yenideğişkenin güncel değeri:0\n",
      "yenideğişkenin güncel değeri:1\n",
      "yenideğişkenin güncel değeri:2\n",
      "yenideğişkenin güncel değeri:3\n",
      "yenideğişkenin güncel değeri:4\n",
      "yenideğişkenin güncel değeri:5\n",
      "yenideğişkenin güncel değeri:6\n",
      "yenideğişkenin güncel değeri:7\n",
      "yenideğişkenin güncel değeri:8\n",
      "yenideğişkenin güncel değeri:9\n",
      "yenideğişkenin güncel değeri:10\n",
      "yenideğişkenin güncel değeri:11\n",
      "yenideğişkenin güncel değeri:12\n",
      "yenideğişkenin güncel değeri:13\n",
      "yenideğişkenin güncel değeri:14\n"
     ]
    }
   ],
   "source": [
    "while yenidegisken < 15:\n",
    "    print(\"yenideğişkenin güncel değeri:\"+ str(yenidegisken))\n",
    "    yenidegisken = yenidegisken + 1"
   ]
  },
  {
   "cell_type": "code",
   "execution_count": 35,
   "id": "9452f255",
   "metadata": {},
   "outputs": [
    {
     "name": "stdout",
     "output_type": "stream",
     "text": [
      "yenideğişken'in güncel değeri:0\n",
      "yenideğişken'in güncel değeri:1\n",
      "yenideğişken'in güncel değeri:2\n",
      "yenideğişken'in güncel değeri:3\n",
      "yenideğişken'in güncel değeri:4\n",
      "yenideğişken'in güncel değeri:5\n",
      "yenideğişken'in güncel değeri:6\n",
      "yenideğişken'in güncel değeri:7\n",
      "yenideğişken'in güncel değeri:8\n",
      "yenideğişken'in güncel değeri:9\n",
      "yenideğişken'in güncel değeri:10\n",
      "yenideğişken'in güncel değeri:11\n",
      "yenideğişken'in güncel değeri:12\n",
      "yenideğişken'in güncel değeri:13\n",
      "yenideğişken'in güncel değeri:14\n"
     ]
    }
   ],
   "source": [
    "yenidegisken=0\n",
    "while yenidegisken<15 :\n",
    "    print(f\"yenideğişken'in güncel değeri:{yenidegisken}\")\n",
    "    yenidegisken = yenidegisken + 1"
   ]
  },
  {
   "cell_type": "code",
   "execution_count": null,
   "id": "91c7cd03",
   "metadata": {},
   "outputs": [],
   "source": []
  }
 ],
 "metadata": {
  "kernelspec": {
   "display_name": "Python 3 (ipykernel)",
   "language": "python",
   "name": "python3"
  },
  "language_info": {
   "codemirror_mode": {
    "name": "ipython",
    "version": 3
   },
   "file_extension": ".py",
   "mimetype": "text/x-python",
   "name": "python",
   "nbconvert_exporter": "python",
   "pygments_lexer": "ipython3",
   "version": "3.9.7"
  }
 },
 "nbformat": 4,
 "nbformat_minor": 5
}
