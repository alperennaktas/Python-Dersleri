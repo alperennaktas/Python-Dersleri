{
 "cells": [
  {
   "cell_type": "code",
   "execution_count": 1,
   "id": "8455a8c9",
   "metadata": {},
   "outputs": [],
   "source": [
    "karisikliste =[1,2,3.5,\"mete\",9]"
   ]
  },
  {
   "cell_type": "code",
   "execution_count": 2,
   "id": "f975f1cd",
   "metadata": {},
   "outputs": [
    {
     "data": {
      "text/plain": [
       "list"
      ]
     },
     "execution_count": 2,
     "metadata": {},
     "output_type": "execute_result"
    }
   ],
   "source": [
    "type(karisikliste)"
   ]
  },
  {
   "cell_type": "code",
   "execution_count": 3,
   "id": "274c0176",
   "metadata": {},
   "outputs": [],
   "source": [
    "sonucum = karisikliste[0]"
   ]
  },
  {
   "cell_type": "code",
   "execution_count": 4,
   "id": "996a92fc",
   "metadata": {},
   "outputs": [
    {
     "data": {
      "text/plain": [
       "int"
      ]
     },
     "execution_count": 4,
     "metadata": {},
     "output_type": "execute_result"
    }
   ],
   "source": [
    "type(sonucum)"
   ]
  },
  {
   "cell_type": "code",
   "execution_count": 5,
   "id": "d7a73a73",
   "metadata": {},
   "outputs": [],
   "source": [
    "sonucum = karisikliste[2]"
   ]
  },
  {
   "cell_type": "code",
   "execution_count": 6,
   "id": "185d1f36",
   "metadata": {},
   "outputs": [
    {
     "data": {
      "text/plain": [
       "float"
      ]
     },
     "execution_count": 6,
     "metadata": {},
     "output_type": "execute_result"
    }
   ],
   "source": [
    "type(sonucum)"
   ]
  },
  {
   "cell_type": "code",
   "execution_count": 8,
   "id": "b07099e1",
   "metadata": {},
   "outputs": [],
   "source": [
    "nestedList = [1,5,\"mete\", 4,[6,\"z\"]]"
   ]
  },
  {
   "cell_type": "code",
   "execution_count": 9,
   "id": "f1416f07",
   "metadata": {},
   "outputs": [
    {
     "data": {
      "text/plain": [
       "1"
      ]
     },
     "execution_count": 9,
     "metadata": {},
     "output_type": "execute_result"
    }
   ],
   "source": [
    "nestedList[0]"
   ]
  },
  {
   "cell_type": "code",
   "execution_count": 12,
   "id": "86940c96",
   "metadata": {},
   "outputs": [
    {
     "data": {
      "text/plain": [
       "[6, 'z']"
      ]
     },
     "execution_count": 12,
     "metadata": {},
     "output_type": "execute_result"
    }
   ],
   "source": [
    "nestedList[4]"
   ]
  },
  {
   "cell_type": "code",
   "execution_count": 11,
   "id": "318f2a7b",
   "metadata": {},
   "outputs": [
    {
     "data": {
      "text/plain": [
       "list"
      ]
     },
     "execution_count": 11,
     "metadata": {},
     "output_type": "execute_result"
    }
   ],
   "source": [
    "type(nestedList[4])"
   ]
  },
  {
   "cell_type": "code",
   "execution_count": 16,
   "id": "8b50c3e5",
   "metadata": {},
   "outputs": [],
   "source": [
    "zDeğiskenimiz = nestedList[4][1]"
   ]
  },
  {
   "cell_type": "code",
   "execution_count": 17,
   "id": "57c985d0",
   "metadata": {},
   "outputs": [
    {
     "data": {
      "text/plain": [
       "'z'"
      ]
     },
     "execution_count": 17,
     "metadata": {},
     "output_type": "execute_result"
    }
   ],
   "source": [
    "zDeğiskenimiz"
   ]
  },
  {
   "cell_type": "code",
   "execution_count": 18,
   "id": "7e422a0c",
   "metadata": {},
   "outputs": [],
   "source": [
    "karmasikListe =[[1,2,3,[\"a\",\"b\"],50,40,20,[\"z\", 5.5],[3,[\"a\"]]]]"
   ]
  },
  {
   "cell_type": "code",
   "execution_count": 21,
   "id": "60661dd7",
   "metadata": {},
   "outputs": [
    {
     "data": {
      "text/plain": [
       "'b'"
      ]
     },
     "execution_count": 21,
     "metadata": {},
     "output_type": "execute_result"
    }
   ],
   "source": [
    "karmasikListe[0][3][1]"
   ]
  },
  {
   "cell_type": "code",
   "execution_count": 22,
   "id": "8f8b58e0",
   "metadata": {},
   "outputs": [
    {
     "data": {
      "text/plain": [
       "[1, 5, 'mete', 4, [6, 'z']]"
      ]
     },
     "execution_count": 22,
     "metadata": {},
     "output_type": "execute_result"
    }
   ],
   "source": [
    "nestedList"
   ]
  },
  {
   "cell_type": "code",
   "execution_count": 23,
   "id": "c006226c",
   "metadata": {},
   "outputs": [
    {
     "data": {
      "text/plain": [
       "['mete', 4, [6, 'z']]"
      ]
     },
     "execution_count": 23,
     "metadata": {},
     "output_type": "execute_result"
    }
   ],
   "source": [
    "nestedList[2:]"
   ]
  },
  {
   "cell_type": "code",
   "execution_count": 24,
   "id": "547f46b2",
   "metadata": {},
   "outputs": [
    {
     "data": {
      "text/plain": [
       "[1, 5]"
      ]
     },
     "execution_count": 24,
     "metadata": {},
     "output_type": "execute_result"
    }
   ],
   "source": [
    "nestedList[:2]"
   ]
  },
  {
   "cell_type": "code",
   "execution_count": 25,
   "id": "0b893b82",
   "metadata": {},
   "outputs": [
    {
     "data": {
      "text/plain": [
       "str"
      ]
     },
     "execution_count": 25,
     "metadata": {},
     "output_type": "execute_result"
    }
   ],
   "source": [
    "type(nestedList[2])"
   ]
  },
  {
   "cell_type": "code",
   "execution_count": 26,
   "id": "32a51b1a",
   "metadata": {},
   "outputs": [
    {
     "data": {
      "text/plain": [
       "int"
      ]
     },
     "execution_count": 26,
     "metadata": {},
     "output_type": "execute_result"
    }
   ],
   "source": [
    "type(nestedList[1])"
   ]
  },
  {
   "cell_type": "code",
   "execution_count": null,
   "id": "12596b48",
   "metadata": {},
   "outputs": [],
   "source": []
  }
 ],
 "metadata": {
  "kernelspec": {
   "display_name": "Python 3 (ipykernel)",
   "language": "python",
   "name": "python3"
  },
  "language_info": {
   "codemirror_mode": {
    "name": "ipython",
    "version": 3
   },
   "file_extension": ".py",
   "mimetype": "text/x-python",
   "name": "python",
   "nbconvert_exporter": "python",
   "pygments_lexer": "ipython3",
   "version": "3.9.7"
  }
 },
 "nbformat": 4,
 "nbformat_minor": 5
}
