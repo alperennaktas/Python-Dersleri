{
 "cells": [
  {
   "cell_type": "code",
   "execution_count": 3,
   "id": "fcc361d7",
   "metadata": {},
   "outputs": [
    {
     "name": "stdout",
     "output_type": "stream",
     "text": [
      "super kahraman seçiniz:batman\n"
     ]
    }
   ],
   "source": [
    "myhero = input(\"super kahraman seçiniz:\")"
   ]
  },
  {
   "cell_type": "code",
   "execution_count": 6,
   "id": "8cbc92c6",
   "metadata": {},
   "outputs": [
    {
     "name": "stdout",
     "output_type": "stream",
     "text": [
      "batman seçtiniz tebrikler\n"
     ]
    }
   ],
   "source": [
    "if myhero ==\"batman\":\n",
    "    print(\"batman seçtiniz tebrikler\")\n",
    "elif myhero ==\"Superman\":\n",
    "    print(\"keşke batmanı seçseydiniz\")\n",
    "elif myhero ==\"ıronman\":\n",
    "    print(\"ıron man kimdir?\")\n",
    "else :\n",
    "    print(\"bu kim gerçekten bilmiyoruz\")"
   ]
  },
  {
   "cell_type": "code",
   "execution_count": null,
   "id": "40fdafe7",
   "metadata": {},
   "outputs": [],
   "source": []
  }
 ],
 "metadata": {
  "kernelspec": {
   "display_name": "Python 3 (ipykernel)",
   "language": "python",
   "name": "python3"
  },
  "language_info": {
   "codemirror_mode": {
    "name": "ipython",
    "version": 3
   },
   "file_extension": ".py",
   "mimetype": "text/x-python",
   "name": "python",
   "nbconvert_exporter": "python",
   "pygments_lexer": "ipython3",
   "version": "3.9.7"
  }
 },
 "nbformat": 4,
 "nbformat_minor": 5
}
