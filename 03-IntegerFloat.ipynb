{
 "cells": [
  {
   "cell_type": "code",
   "execution_count": 2,
   "id": "e6cf6112",
   "metadata": {},
   "outputs": [],
   "source": [
    "#Integer, tam sayıları ifade eder."
   ]
  },
  {
   "cell_type": "code",
   "execution_count": 3,
   "id": "63940826",
   "metadata": {},
   "outputs": [],
   "source": [
    "#Float, kesirli sayıları ifade eder."
   ]
  },
  {
   "cell_type": "code",
   "execution_count": 4,
   "id": "1708e94d",
   "metadata": {},
   "outputs": [],
   "source": [
    "c = 5\n",
    "g = 6"
   ]
  },
  {
   "cell_type": "code",
   "execution_count": 5,
   "id": "784a7ff5",
   "metadata": {},
   "outputs": [
    {
     "data": {
      "text/plain": [
       "300"
      ]
     },
     "execution_count": 5,
     "metadata": {},
     "output_type": "execute_result"
    }
   ],
   "source": [
    "c * g * 10"
   ]
  },
  {
   "cell_type": "code",
   "execution_count": 6,
   "id": "38d9d045",
   "metadata": {},
   "outputs": [
    {
     "data": {
      "text/plain": [
       "625"
      ]
     },
     "execution_count": 6,
     "metadata": {},
     "output_type": "execute_result"
    }
   ],
   "source": [
    "c*c*c*c"
   ]
  },
  {
   "cell_type": "code",
   "execution_count": 7,
   "id": "3e59d445",
   "metadata": {},
   "outputs": [
    {
     "data": {
      "text/plain": [
       "625"
      ]
     },
     "execution_count": 7,
     "metadata": {},
     "output_type": "execute_result"
    }
   ],
   "source": [
    "c** 4"
   ]
  },
  {
   "cell_type": "code",
   "execution_count": 8,
   "id": "bd96a900",
   "metadata": {},
   "outputs": [
    {
     "data": {
      "text/plain": [
       "0"
      ]
     },
     "execution_count": 8,
     "metadata": {},
     "output_type": "execute_result"
    }
   ],
   "source": [
    "#Remainder - Kalanını bulmak\n",
    "10%2"
   ]
  },
  {
   "cell_type": "code",
   "execution_count": 9,
   "id": "ec6ac644",
   "metadata": {},
   "outputs": [
    {
     "data": {
      "text/plain": [
       "2"
      ]
     },
     "execution_count": 9,
     "metadata": {},
     "output_type": "execute_result"
    }
   ],
   "source": [
    "20 % 3"
   ]
  },
  {
   "cell_type": "code",
   "execution_count": 3,
   "id": "d42d2856",
   "metadata": {},
   "outputs": [],
   "source": [
    "kullanicininYasi = 30"
   ]
  },
  {
   "cell_type": "code",
   "execution_count": 4,
   "id": "528702fe",
   "metadata": {},
   "outputs": [
    {
     "data": {
      "text/plain": [
       "50.0"
      ]
     },
     "execution_count": 4,
     "metadata": {},
     "output_type": "execute_result"
    }
   ],
   "source": [
    "kullanicininYasi * 5 /3"
   ]
  },
  {
   "cell_type": "code",
   "execution_count": 6,
   "id": "ccb9c9cc",
   "metadata": {},
   "outputs": [
    {
     "name": "stdout",
     "output_type": "stream",
     "text": [
      "yaşınızı giriniz: 30\n"
     ]
    }
   ],
   "source": [
    "kullanicininYasi = input(\"yaşınızı giriniz: \")"
   ]
  },
  {
   "cell_type": "code",
   "execution_count": 7,
   "id": "1df66125",
   "metadata": {},
   "outputs": [
    {
     "data": {
      "text/plain": [
       "'30'"
      ]
     },
     "execution_count": 7,
     "metadata": {},
     "output_type": "execute_result"
    }
   ],
   "source": [
    "kullanicininYasi"
   ]
  },
  {
   "cell_type": "code",
   "execution_count": 8,
   "id": "220f46cf",
   "metadata": {},
   "outputs": [
    {
     "data": {
      "text/plain": [
       "str"
      ]
     },
     "execution_count": 8,
     "metadata": {},
     "output_type": "execute_result"
    }
   ],
   "source": [
    "type(kullanicininYasi)"
   ]
  },
  {
   "cell_type": "code",
   "execution_count": null,
   "id": "9d2d1031",
   "metadata": {},
   "outputs": [],
   "source": []
  }
 ],
 "metadata": {
  "kernelspec": {
   "display_name": "Python 3 (ipykernel)",
   "language": "python",
   "name": "python3"
  },
  "language_info": {
   "codemirror_mode": {
    "name": "ipython",
    "version": 3
   },
   "file_extension": ".py",
   "mimetype": "text/x-python",
   "name": "python",
   "nbconvert_exporter": "python",
   "pygments_lexer": "ipython3",
   "version": "3.9.7"
  }
 },
 "nbformat": 4,
 "nbformat_minor": 5
}
