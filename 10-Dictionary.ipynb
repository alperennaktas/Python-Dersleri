{
 "cells": [
  {
   "cell_type": "code",
   "execution_count": 1,
   "id": "91964830",
   "metadata": {},
   "outputs": [],
   "source": [
    "benimListem = [1,2,3]"
   ]
  },
  {
   "cell_type": "code",
   "execution_count": 2,
   "id": "9baf99e3",
   "metadata": {},
   "outputs": [
    {
     "data": {
      "text/plain": [
       "1"
      ]
     },
     "execution_count": 2,
     "metadata": {},
     "output_type": "execute_result"
    }
   ],
   "source": [
    "benimListem [0]"
   ]
  },
  {
   "cell_type": "code",
   "execution_count": 3,
   "id": "c69a0ac4",
   "metadata": {},
   "outputs": [],
   "source": [
    "#indeks yerine anahtar kelime ve değer eşleşmesi vardır. "
   ]
  },
  {
   "cell_type": "code",
   "execution_count": 4,
   "id": "d5a7fa2f",
   "metadata": {},
   "outputs": [],
   "source": [
    "#key-value pairing(anahtar kelime-değer eşleşmesi)"
   ]
  },
  {
   "cell_type": "code",
   "execution_count": 5,
   "id": "e789099e",
   "metadata": {},
   "outputs": [],
   "source": [
    "benimYemeklerim =[\"elma\",\"karpuz\", \"muz\"]"
   ]
  },
  {
   "cell_type": "code",
   "execution_count": 6,
   "id": "586db87c",
   "metadata": {},
   "outputs": [],
   "source": [
    "benimKalorilerim =[100,200,300]"
   ]
  },
  {
   "cell_type": "code",
   "execution_count": 7,
   "id": "0853ff0a",
   "metadata": {},
   "outputs": [
    {
     "data": {
      "text/plain": [
       "'karpuz'"
      ]
     },
     "execution_count": 7,
     "metadata": {},
     "output_type": "execute_result"
    }
   ],
   "source": [
    "benimYemeklerim[1]"
   ]
  },
  {
   "cell_type": "code",
   "execution_count": 8,
   "id": "6a44caf0",
   "metadata": {},
   "outputs": [
    {
     "data": {
      "text/plain": [
       "200"
      ]
     },
     "execution_count": 8,
     "metadata": {},
     "output_type": "execute_result"
    }
   ],
   "source": [
    "benimKalorilerim[1]"
   ]
  },
  {
   "cell_type": "code",
   "execution_count": 9,
   "id": "7a3cb1bd",
   "metadata": {},
   "outputs": [],
   "source": [
    "myDictionary = {\"anahtarkelime\" :\"deger\"}"
   ]
  },
  {
   "cell_type": "code",
   "execution_count": 10,
   "id": "9400613b",
   "metadata": {},
   "outputs": [
    {
     "data": {
      "text/plain": [
       "{'anahtarkelime': 'deger'}"
      ]
     },
     "execution_count": 10,
     "metadata": {},
     "output_type": "execute_result"
    }
   ],
   "source": [
    "myDictionary"
   ]
  },
  {
   "cell_type": "code",
   "execution_count": 11,
   "id": "f8fe9d3b",
   "metadata": {},
   "outputs": [
    {
     "data": {
      "text/plain": [
       "dict"
      ]
     },
     "execution_count": 11,
     "metadata": {},
     "output_type": "execute_result"
    }
   ],
   "source": [
    "type(myDictionary)"
   ]
  },
  {
   "cell_type": "code",
   "execution_count": 13,
   "id": "cfa79253",
   "metadata": {},
   "outputs": [],
   "source": [
    "benimYemekKaloriSozlugum ={\"elma\":100,\"karpuz\":200,\"muz\" :300}"
   ]
  },
  {
   "cell_type": "code",
   "execution_count": 14,
   "id": "db5bd5f6",
   "metadata": {},
   "outputs": [
    {
     "data": {
      "text/plain": [
       "300"
      ]
     },
     "execution_count": 14,
     "metadata": {},
     "output_type": "execute_result"
    }
   ],
   "source": [
    "benimYemekKaloriSozlugum[\"muz\"]"
   ]
  },
  {
   "cell_type": "code",
   "execution_count": 16,
   "id": "77b07507",
   "metadata": {},
   "outputs": [
    {
     "data": {
      "text/plain": [
       "100"
      ]
     },
     "execution_count": 16,
     "metadata": {},
     "output_type": "execute_result"
    }
   ],
   "source": [
    "benimYemekKaloriSozlugum[\"elma\"]"
   ]
  },
  {
   "cell_type": "code",
   "execution_count": null,
   "id": "82f0052f",
   "metadata": {},
   "outputs": [],
   "source": []
  }
 ],
 "metadata": {
  "kernelspec": {
   "display_name": "Python 3 (ipykernel)",
   "language": "python",
   "name": "python3"
  },
  "language_info": {
   "codemirror_mode": {
    "name": "ipython",
    "version": 3
   },
   "file_extension": ".py",
   "mimetype": "text/x-python",
   "name": "python",
   "nbconvert_exporter": "python",
   "pygments_lexer": "ipython3",
   "version": "3.9.7"
  }
 },
 "nbformat": 4,
 "nbformat_minor": 5
}
