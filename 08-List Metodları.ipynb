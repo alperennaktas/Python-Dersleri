{
 "cells": [
  {
   "cell_type": "code",
   "execution_count": 1,
   "id": "ca6b5421",
   "metadata": {},
   "outputs": [],
   "source": [
    "Mylist=[100,50,60,70,58]"
   ]
  },
  {
   "cell_type": "code",
   "execution_count": 2,
   "id": "eb797914",
   "metadata": {},
   "outputs": [
    {
     "data": {
      "text/plain": [
       "58"
      ]
     },
     "execution_count": 2,
     "metadata": {},
     "output_type": "execute_result"
    }
   ],
   "source": [
    "Mylist.pop()"
   ]
  },
  {
   "cell_type": "code",
   "execution_count": 3,
   "id": "453c84f0",
   "metadata": {},
   "outputs": [],
   "source": [
    "#pop,dizinin sonundaki elemanı atmak için kullanılır."
   ]
  },
  {
   "cell_type": "code",
   "execution_count": 4,
   "id": "9af022b3",
   "metadata": {},
   "outputs": [],
   "source": [
    "Mylist.remove(60)"
   ]
  },
  {
   "cell_type": "code",
   "execution_count": 5,
   "id": "4c2ce2a3",
   "metadata": {},
   "outputs": [
    {
     "data": {
      "text/plain": [
       "[100, 50, 70]"
      ]
     },
     "execution_count": 5,
     "metadata": {},
     "output_type": "execute_result"
    }
   ],
   "source": [
    "Mylist"
   ]
  },
  {
   "cell_type": "code",
   "execution_count": 6,
   "id": "9772fb54",
   "metadata": {},
   "outputs": [],
   "source": [
    "#remove, dizinin içerisindeki elemanı çıkartmak için kullanılır."
   ]
  },
  {
   "cell_type": "code",
   "execution_count": 10,
   "id": "83240b1e",
   "metadata": {},
   "outputs": [
    {
     "data": {
      "text/plain": [
       "0"
      ]
     },
     "execution_count": 10,
     "metadata": {},
     "output_type": "execute_result"
    }
   ],
   "source": [
    "Mylist.count(20)"
   ]
  },
  {
   "cell_type": "code",
   "execution_count": 11,
   "id": "d881746f",
   "metadata": {},
   "outputs": [],
   "source": [
    "#count,bir dizinin içerisinde kaç tane var onu sayar."
   ]
  },
  {
   "cell_type": "code",
   "execution_count": 12,
   "id": "b2f639b8",
   "metadata": {},
   "outputs": [],
   "source": [
    "Mylist.append(20)"
   ]
  },
  {
   "cell_type": "code",
   "execution_count": 13,
   "id": "a827ee9f",
   "metadata": {},
   "outputs": [
    {
     "data": {
      "text/plain": [
       "[100, 50, 70, 20]"
      ]
     },
     "execution_count": 13,
     "metadata": {},
     "output_type": "execute_result"
    }
   ],
   "source": [
    "Mylist"
   ]
  },
  {
   "cell_type": "code",
   "execution_count": 14,
   "id": "6570d8ea",
   "metadata": {},
   "outputs": [],
   "source": [
    "#append, listeye sayı eklemek için kullanılır."
   ]
  },
  {
   "cell_type": "code",
   "execution_count": 15,
   "id": "cd1e1ccb",
   "metadata": {},
   "outputs": [],
   "source": [
    "Mylist.append(50)"
   ]
  },
  {
   "cell_type": "code",
   "execution_count": 16,
   "id": "dbfd5f9b",
   "metadata": {},
   "outputs": [
    {
     "data": {
      "text/plain": [
       "2"
      ]
     },
     "execution_count": 16,
     "metadata": {},
     "output_type": "execute_result"
    }
   ],
   "source": [
    "Mylist.count(50)"
   ]
  },
  {
   "cell_type": "code",
   "execution_count": 18,
   "id": "cf1ab198",
   "metadata": {},
   "outputs": [],
   "source": [
    "MyStringList=[\"mete\", \"Han\",\"aktas\"]"
   ]
  },
  {
   "cell_type": "code",
   "execution_count": 19,
   "id": "8a056c0c",
   "metadata": {},
   "outputs": [],
   "source": [
    "MyOtherStringList = [\"Atilla\", \"Timur\", \"Fatih\"]"
   ]
  },
  {
   "cell_type": "code",
   "execution_count": 20,
   "id": "8bfff9a1",
   "metadata": {},
   "outputs": [],
   "source": [
    "MyTotalList = MyStringList + MyOtherStringList"
   ]
  },
  {
   "cell_type": "code",
   "execution_count": 21,
   "id": "e3f76a6f",
   "metadata": {},
   "outputs": [
    {
     "data": {
      "text/plain": [
       "['mete', 'Han', 'aktas', 'Atilla', 'Timur', 'Fatih']"
      ]
     },
     "execution_count": 21,
     "metadata": {},
     "output_type": "execute_result"
    }
   ],
   "source": [
    "MyTotalList"
   ]
  },
  {
   "cell_type": "code",
   "execution_count": 22,
   "id": "20f7cd0f",
   "metadata": {},
   "outputs": [
    {
     "data": {
      "text/plain": [
       "['mete',\n",
       " 'Han',\n",
       " 'aktas',\n",
       " 'mete',\n",
       " 'Han',\n",
       " 'aktas',\n",
       " 'mete',\n",
       " 'Han',\n",
       " 'aktas',\n",
       " 'mete',\n",
       " 'Han',\n",
       " 'aktas',\n",
       " 'mete',\n",
       " 'Han',\n",
       " 'aktas']"
      ]
     },
     "execution_count": 22,
     "metadata": {},
     "output_type": "execute_result"
    }
   ],
   "source": [
    "MyStringList * 5"
   ]
  },
  {
   "cell_type": "code",
   "execution_count": 23,
   "id": "6061bc91",
   "metadata": {},
   "outputs": [],
   "source": [
    "MyTotalList.reverse()"
   ]
  },
  {
   "cell_type": "code",
   "execution_count": 24,
   "id": "5ead51ac",
   "metadata": {},
   "outputs": [
    {
     "data": {
      "text/plain": [
       "['Fatih', 'Timur', 'Atilla', 'aktas', 'Han', 'mete']"
      ]
     },
     "execution_count": 24,
     "metadata": {},
     "output_type": "execute_result"
    }
   ],
   "source": [
    "MyTotalList"
   ]
  },
  {
   "cell_type": "code",
   "execution_count": null,
   "id": "ba39f5dd",
   "metadata": {},
   "outputs": [],
   "source": [
    "#reverse, en son indeksi başa ilk indeksi sona götürüyor. indekslerin yerlerini değştiriyor"
   ]
  }
 ],
 "metadata": {
  "kernelspec": {
   "display_name": "Python 3 (ipykernel)",
   "language": "python",
   "name": "python3"
  },
  "language_info": {
   "codemirror_mode": {
    "name": "ipython",
    "version": 3
   },
   "file_extension": ".py",
   "mimetype": "text/x-python",
   "name": "python",
   "nbconvert_exporter": "python",
   "pygments_lexer": "ipython3",
   "version": "3.9.7"
  }
 },
 "nbformat": 4,
 "nbformat_minor": 5
}
