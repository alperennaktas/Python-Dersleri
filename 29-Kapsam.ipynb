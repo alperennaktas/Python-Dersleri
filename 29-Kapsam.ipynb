{
 "cells": [
  {
   "cell_type": "code",
   "execution_count": 1,
   "id": "a46cc49b",
   "metadata": {},
   "outputs": [],
   "source": [
    "#scope"
   ]
  },
  {
   "cell_type": "code",
   "execution_count": 2,
   "id": "e71268b1",
   "metadata": {},
   "outputs": [],
   "source": [
    "numara = 20\n",
    "\n",
    "def carpma(rakam):\n",
    "    numara = 10\n",
    "    return numara * rakam"
   ]
  },
  {
   "cell_type": "code",
   "execution_count": 3,
   "id": "97673986",
   "metadata": {},
   "outputs": [
    {
     "data": {
      "text/plain": [
       "50"
      ]
     },
     "execution_count": 3,
     "metadata": {},
     "output_type": "execute_result"
    }
   ],
   "source": [
    "carpma(5)"
   ]
  },
  {
   "cell_type": "code",
   "execution_count": 4,
   "id": "4e41103f",
   "metadata": {},
   "outputs": [
    {
     "name": "stdout",
     "output_type": "stream",
     "text": [
      "20\n"
     ]
    }
   ],
   "source": [
    "print(numara)"
   ]
  },
  {
   "cell_type": "code",
   "execution_count": 5,
   "id": "a5264814",
   "metadata": {},
   "outputs": [],
   "source": [
    "#Local,Enclosing,Global, Built-ın"
   ]
  },
  {
   "cell_type": "code",
   "execution_count": 8,
   "id": "48c4cae7",
   "metadata": {},
   "outputs": [],
   "source": [
    "benimAdım=\"mete\"\n",
    "#global\n",
    "\n",
    "def benimFonksiyonum():\n",
    "    benimAdım =\"timur\"\n",
    "    #enclosing\n",
    "    def icFonksiyon():\n",
    "        benimAdım =\"Umay\"\n",
    "        #Local\n",
    "        print(benimAdım)\n",
    "    icFonksiyon()"
   ]
  },
  {
   "cell_type": "code",
   "execution_count": 10,
   "id": "3628446e",
   "metadata": {},
   "outputs": [
    {
     "name": "stdout",
     "output_type": "stream",
     "text": [
      "Umay\n"
     ]
    }
   ],
   "source": [
    "benimFonksiyonum()"
   ]
  },
  {
   "cell_type": "code",
   "execution_count": 11,
   "id": "80652232",
   "metadata": {},
   "outputs": [
    {
     "name": "stdout",
     "output_type": "stream",
     "text": [
      "mete\n"
     ]
    }
   ],
   "source": [
    "print(benimAdım)"
   ]
  },
  {
   "cell_type": "code",
   "execution_count": null,
   "id": "7a3e1507",
   "metadata": {},
   "outputs": [],
   "source": []
  }
 ],
 "metadata": {
  "kernelspec": {
   "display_name": "Python 3 (ipykernel)",
   "language": "python",
   "name": "python3"
  },
  "language_info": {
   "codemirror_mode": {
    "name": "ipython",
    "version": 3
   },
   "file_extension": ".py",
   "mimetype": "text/x-python",
   "name": "python",
   "nbconvert_exporter": "python",
   "pygments_lexer": "ipython3",
   "version": "3.9.7"
  }
 },
 "nbformat": 4,
 "nbformat_minor": 5
}
