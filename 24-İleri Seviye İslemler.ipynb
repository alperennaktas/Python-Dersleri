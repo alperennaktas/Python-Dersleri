{
 "cells": [
  {
   "cell_type": "code",
   "execution_count": 2,
   "id": "d04a107f",
   "metadata": {},
   "outputs": [],
   "source": [
    "yemeklistesi  = [\"muz\",\"ananas\",\"elma\"]\n",
    "kalorilistesi = [100,200,300]\n",
    "gunlistesi    = [\"pazartesi\",\"salı\",\"çarşamba\"]"
   ]
  },
  {
   "cell_type": "code",
   "execution_count": 3,
   "id": "aa009bba",
   "metadata": {},
   "outputs": [],
   "source": [
    "#zip yöntemi"
   ]
  },
  {
   "cell_type": "code",
   "execution_count": 6,
   "id": "509a3311",
   "metadata": {},
   "outputs": [],
   "source": [
    "ziplenmisliste =list(zip(yemeklistesi,kalorilistesi,gunlistesi))"
   ]
  },
  {
   "cell_type": "code",
   "execution_count": 7,
   "id": "7ed17ace",
   "metadata": {},
   "outputs": [
    {
     "name": "stdout",
     "output_type": "stream",
     "text": [
      "<class 'tuple'>\n",
      "<class 'tuple'>\n",
      "<class 'tuple'>\n"
     ]
    }
   ],
   "source": [
    "for eleman in ziplenmisliste:\n",
    "    print(type(eleman))"
   ]
  },
  {
   "cell_type": "code",
   "execution_count": 8,
   "id": "cfbf1942",
   "metadata": {},
   "outputs": [
    {
     "data": {
      "text/plain": [
       "[('muz', 100, 'pazartesi'), ('ananas', 200, 'salı'), ('elma', 300, 'çarşamba')]"
      ]
     },
     "execution_count": 8,
     "metadata": {},
     "output_type": "execute_result"
    }
   ],
   "source": [
    "ziplenmisliste"
   ]
  },
  {
   "cell_type": "code",
   "execution_count": 13,
   "id": "6bfd6864",
   "metadata": {},
   "outputs": [],
   "source": [
    "listeOrnegi = []\n",
    "benimString=\"mete han\""
   ]
  },
  {
   "cell_type": "code",
   "execution_count": 14,
   "id": "2e46ecfd",
   "metadata": {},
   "outputs": [],
   "source": [
    "for harf in benimString:\n",
    "    listeOrnegi.append(harf)"
   ]
  },
  {
   "cell_type": "code",
   "execution_count": 15,
   "id": "c5e89155",
   "metadata": {},
   "outputs": [
    {
     "data": {
      "text/plain": [
       "['m', 'e', 't', 'e', ' ', 'h', 'a', 'n']"
      ]
     },
     "execution_count": 15,
     "metadata": {},
     "output_type": "execute_result"
    }
   ],
   "source": [
    "listeOrnegi"
   ]
  },
  {
   "cell_type": "code",
   "execution_count": null,
   "id": "df84080a",
   "metadata": {},
   "outputs": [],
   "source": []
  }
 ],
 "metadata": {
  "kernelspec": {
   "display_name": "Python 3 (ipykernel)",
   "language": "python",
   "name": "python3"
  },
  "language_info": {
   "codemirror_mode": {
    "name": "ipython",
    "version": 3
   },
   "file_extension": ".py",
   "mimetype": "text/x-python",
   "name": "python",
   "nbconvert_exporter": "python",
   "pygments_lexer": "ipython3",
   "version": "3.9.7"
  }
 },
 "nbformat": 4,
 "nbformat_minor": 5
}
