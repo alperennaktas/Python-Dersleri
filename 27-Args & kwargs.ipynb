{
 "cells": [
  {
   "cell_type": "code",
   "execution_count": 1,
   "id": "712d3b9c",
   "metadata": {},
   "outputs": [],
   "source": [
    "#args & kwargs"
   ]
  },
  {
   "cell_type": "code",
   "execution_count": 2,
   "id": "6f3f91d9",
   "metadata": {},
   "outputs": [],
   "source": [
    "def yeniToplama(*args):\n",
    "    return sum(args)"
   ]
  },
  {
   "cell_type": "code",
   "execution_count": 4,
   "id": "be14a10a",
   "metadata": {},
   "outputs": [
    {
     "data": {
      "text/plain": [
       "180"
      ]
     },
     "execution_count": 4,
     "metadata": {},
     "output_type": "execute_result"
    }
   ],
   "source": [
    "yeniToplama(10,20,30,10,50,60)"
   ]
  },
  {
   "cell_type": "code",
   "execution_count": 5,
   "id": "2f56a846",
   "metadata": {},
   "outputs": [
    {
     "data": {
      "text/plain": [
       "30"
      ]
     },
     "execution_count": 5,
     "metadata": {},
     "output_type": "execute_result"
    }
   ],
   "source": [
    "yeniToplama(10,20)"
   ]
  },
  {
   "cell_type": "code",
   "execution_count": 12,
   "id": "e624b082",
   "metadata": {},
   "outputs": [],
   "source": [
    "def benimFonksiyonum(*args):\n",
    "    return sum(args)"
   ]
  },
  {
   "cell_type": "code",
   "execution_count": 15,
   "id": "2964e0ef",
   "metadata": {},
   "outputs": [],
   "source": [
    "def ornekFonksiyon(**kwargs):\n",
    "    print(kwargs)"
   ]
  },
  {
   "cell_type": "code",
   "execution_count": 16,
   "id": "4d85fbcf",
   "metadata": {},
   "outputs": [
    {
     "name": "stdout",
     "output_type": "stream",
     "text": [
      "{'muz': 100, 'elma': 200, 'ananas': 300}\n"
     ]
    }
   ],
   "source": [
    "ornekFonksiyon(muz=100,elma=200,ananas=300)"
   ]
  },
  {
   "cell_type": "code",
   "execution_count": 18,
   "id": "117c3240",
   "metadata": {},
   "outputs": [],
   "source": [
    "def keywordKontrolu(**kwargs):\n",
    "    if 'Mete' in kwargs :\n",
    "        print('Mete VAR')\n",
    "    else:\n",
    "        print('Mete Her zaman Var')"
   ]
  },
  {
   "cell_type": "code",
   "execution_count": 19,
   "id": "860f3b79",
   "metadata": {},
   "outputs": [
    {
     "name": "stdout",
     "output_type": "stream",
     "text": [
      "Mete VAR\n"
     ]
    }
   ],
   "source": [
    "keywordKontrolu(Mete = 50, zeynep=80,mehmet=92)"
   ]
  },
  {
   "cell_type": "code",
   "execution_count": null,
   "id": "e6d19d93",
   "metadata": {},
   "outputs": [],
   "source": []
  }
 ],
 "metadata": {
  "kernelspec": {
   "display_name": "Python 3 (ipykernel)",
   "language": "python",
   "name": "python3"
  },
  "language_info": {
   "codemirror_mode": {
    "name": "ipython",
    "version": 3
   },
   "file_extension": ".py",
   "mimetype": "text/x-python",
   "name": "python",
   "nbconvert_exporter": "python",
   "pygments_lexer": "ipython3",
   "version": "3.9.7"
  }
 },
 "nbformat": 4,
 "nbformat_minor": 5
}
