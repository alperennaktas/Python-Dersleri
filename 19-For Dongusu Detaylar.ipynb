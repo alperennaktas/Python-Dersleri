{
 "cells": [
  {
   "cell_type": "code",
   "execution_count": 1,
   "id": "49caa741",
   "metadata": {},
   "outputs": [],
   "source": [
    "newString = \"Mete Han\""
   ]
  },
  {
   "cell_type": "code",
   "execution_count": 3,
   "id": "f9f302be",
   "metadata": {},
   "outputs": [
    {
     "name": "stdout",
     "output_type": "stream",
     "text": [
      "M\n",
      "e\n",
      "t\n",
      "e\n",
      " \n",
      "H\n",
      "a\n",
      "n\n"
     ]
    }
   ],
   "source": [
    "for harf in newString :\n",
    "    print(harf)"
   ]
  },
  {
   "cell_type": "code",
   "execution_count": 5,
   "id": "83dae163",
   "metadata": {},
   "outputs": [],
   "source": [
    "benimTuple =(1,2,3,4,5)"
   ]
  },
  {
   "cell_type": "code",
   "execution_count": 7,
   "id": "4467237c",
   "metadata": {},
   "outputs": [
    {
     "name": "stdout",
     "output_type": "stream",
     "text": [
      "-9\n",
      "-8\n",
      "-7\n",
      "-6\n",
      "-5\n"
     ]
    }
   ],
   "source": [
    "for eleman in benimTuple:\n",
    "    print(eleman-10)"
   ]
  },
  {
   "cell_type": "code",
   "execution_count": 10,
   "id": "861d6d9b",
   "metadata": {},
   "outputs": [],
   "source": [
    "kordinatlistesi = [(10.2,15.2),(32.4,16.2),(40.2,20.2)]"
   ]
  },
  {
   "cell_type": "code",
   "execution_count": 11,
   "id": "6a5e3beb",
   "metadata": {},
   "outputs": [
    {
     "data": {
      "text/plain": [
       "tuple"
      ]
     },
     "execution_count": 11,
     "metadata": {},
     "output_type": "execute_result"
    }
   ],
   "source": [
    "type(kordinatlistesi[0])"
   ]
  },
  {
   "cell_type": "code",
   "execution_count": 13,
   "id": "b558c201",
   "metadata": {},
   "outputs": [
    {
     "name": "stdout",
     "output_type": "stream",
     "text": [
      "(10.2, 15.2)\n",
      "(32.4, 16.2)\n",
      "(40.2, 20.2)\n"
     ]
    }
   ],
   "source": [
    "for eleman in kordinatlistesi :\n",
    "    print(eleman)"
   ]
  },
  {
   "cell_type": "code",
   "execution_count": 14,
   "id": "8c4b4a92",
   "metadata": {},
   "outputs": [
    {
     "name": "stdout",
     "output_type": "stream",
     "text": [
      "15.2\n",
      "16.2\n",
      "20.2\n"
     ]
    }
   ],
   "source": [
    "for(x,y) in kordinatlistesi:\n",
    "    print(y)"
   ]
  },
  {
   "cell_type": "code",
   "execution_count": 15,
   "id": "7c323929",
   "metadata": {},
   "outputs": [],
   "source": [
    "benimsozluk={\"muz\":150,\"portakal\" :250 ,\"elma\":400}"
   ]
  },
  {
   "cell_type": "code",
   "execution_count": 16,
   "id": "d7d8c5ed",
   "metadata": {},
   "outputs": [
    {
     "name": "stdout",
     "output_type": "stream",
     "text": [
      "150\n",
      "250\n",
      "400\n"
     ]
    }
   ],
   "source": [
    "for(anahtar,deger) in benimsozluk.items():\n",
    "    print(deger)"
   ]
  },
  {
   "cell_type": "code",
   "execution_count": null,
   "id": "97c2661d",
   "metadata": {},
   "outputs": [],
   "source": []
  }
 ],
 "metadata": {
  "kernelspec": {
   "display_name": "Python 3 (ipykernel)",
   "language": "python",
   "name": "python3"
  },
  "language_info": {
   "codemirror_mode": {
    "name": "ipython",
    "version": 3
   },
   "file_extension": ".py",
   "mimetype": "text/x-python",
   "name": "python",
   "nbconvert_exporter": "python",
   "pygments_lexer": "ipython3",
   "version": "3.9.7"
  }
 },
 "nbformat": 4,
 "nbformat_minor": 5
}
